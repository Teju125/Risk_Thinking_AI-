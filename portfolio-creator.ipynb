{
 "cells": [
  {
   "cell_type": "markdown",
   "metadata": {},
   "source": [
    "## Configs"
   ]
  },
  {
   "cell_type": "code",
   "execution_count": 1,
   "metadata": {},
   "outputs": [],
   "source": [
    "import pandas as pd\n",
    "import numpy as np\n",
    "\n",
    "from datetime import datetime\n",
    "from os import listdir\n",
    "from os.path import isfile, join, splitext"
   ]
  },
  {
   "cell_type": "code",
   "execution_count": 2,
   "metadata": {},
   "outputs": [],
   "source": [
    "START_TIME = datetime(2017, 3, 4)\n",
    "TRADING_DAYS = 755# 253 # TODO: determine this automatically\n",
    "NUMBER_OF_PORTFOLIO_SECURITIES = 10\n",
    "INITAL_TICKER = 'FB'\n",
    "MAX_VOLATILITY_OF_SINGLE_SECURITY = 0.02\n",
    "RISK_FREE_RATE = 0.02\n",
    "RISK_FREE_RATE_DAILY = (1 + RISK_FREE_RATE) ** (1/365) - 1\n",
    "\n",
    "BAN_LIST = [\"KRMD\", \"FRPT\", \"EC\", \"MFINL\", \"CABO\", \"CSGP\", \"NEE\", \"TRNS\"]"
   ]
  },
  {
   "cell_type": "markdown",
   "metadata": {},
   "source": [
    "## Read Data"
   ]
  },
  {
   "cell_type": "code",
   "execution_count": 3,
   "metadata": {
    "_cell_guid": "b1076dfc-b9ad-4769-8c92-a6c4dae69d19",
    "_uuid": "8f2839f25d086af736a60e9eeb907d3b93b6e0e5"
   },
   "outputs": [
    {
     "name": "stdout",
     "output_type": "stream",
     "text": [
      "CPU times: user 2min 27s, sys: 12.5 s, total: 2min 40s\n",
      "Wall time: 3min 18s\n"
     ]
    }
   ],
   "source": [
    "%%time\n",
    "\n",
    "path = '/kaggle/input/stock-market-dataset'\n",
    "\n",
    "def read_data(path, start_time):\n",
    "    data = {}\n",
    "    files = [f for f in listdir(path) if isfile(join(path, f))]\n",
    "    for f in files:\n",
    "        ticker = pd.read_csv(join(path, f))\n",
    "        ticker['Date'] = pd.to_datetime(ticker['Date'])\n",
    "\n",
    "        symbol = splitext(f)[0]\n",
    "        data_for_period = ticker[ticker['Date'] > start_time][['Date', 'Adj Close']]\n",
    "        if data_for_period.shape[0] != TRADING_DAYS:\n",
    "            continue # entered the market after the start of analysis\n",
    "        \n",
    "        data[symbol] = data_for_period\n",
    "        data[symbol]['Return'] = data[symbol]['Adj Close'].pct_change()  # daily return\n",
    "        data[symbol] = data[symbol].dropna()\n",
    "\n",
    "    return data\n",
    "\n",
    "etfs = read_data(join(path, 'etfs'), START_TIME)\n",
    "stocks = read_data(join(path, 'stocks'), START_TIME)\n",
    "\n",
    "tickers = {**etfs, **stocks}"
   ]
  },
  {
   "cell_type": "markdown",
   "metadata": {},
   "source": [
    "## Portfolio Optimisation"
   ]
  },
  {
   "cell_type": "code",
   "execution_count": 4,
   "metadata": {},
   "outputs": [],
   "source": [
    "portfolio = {}\n",
    "portfolio[INITAL_TICKER] = tickers[INITAL_TICKER]['Return'].to_numpy()\n",
    "get_return = lambda portfolio: np.mean(np.array(list(portfolio.values())), axis=0)"
   ]
  },
  {
   "cell_type": "code",
   "execution_count": 5,
   "metadata": {},
   "outputs": [],
   "source": [
    "def portfolio_stat(portfolio):\n",
    "    ret = portfolio.mean()\n",
    "    std = portfolio.std()\n",
    "    sharpe_ratio = (ret - RISK_FREE_RATE_DAILY) / std\n",
    "    \n",
    "    return ret, std, sharpe_ratio\n",
    "\n",
    "def portfolio_stat_annual(portfolio):\n",
    "    ret = (portfolio.mean() + 1) ** 365 - 1\n",
    "    std = portfolio.std() * (250 ** 0.5)\n",
    "    sharpe_ratio = (ret - RISK_FREE_RATE) / std\n",
    "    \n",
    "    return ret, std, sharpe_ratio"
   ]
  },
  {
   "cell_type": "code",
   "execution_count": 6,
   "metadata": {},
   "outputs": [
    {
     "name": "stdout",
     "output_type": "stream",
     "text": [
      "1) Ticker = FB, Avg Return = 0.0006221138727892493, Std Deviation = 0.018804575360860103, Sharpe Ratio = 0.03019789687962968\n",
      "2) Ticker = KNSL, Avg Return = 0.001371069399690768, Std Deviation = 0.0138988411203185, Sharpe Ratio = 0.0947427302114395\n",
      "3) Ticker = PALL, Avg Return = 0.0014828053554888309, Std Deviation = 0.01129642892109018, Sharpe Ratio = 0.12646032832951207\n",
      "4) Ticker = TMF, Avg Return = 0.0014202349070972092, Std Deviation = 0.008993101138238398, Sharpe Ratio = 0.15189194927568797\n",
      "5) Ticker = CWST, Avg Return = 0.0015445240541454752, Std Deviation = 0.008794760411353427, Sharpe Ratio = 0.16944961991743065\n",
      "6) Ticker = HLNE, Avg Return = 0.0016075813598326434, Std Deviation = 0.008628223491666, Sharpe Ratio = 0.18002849788907646\n",
      "7) Ticker = MZZ, Avg Return = 0.001332407970863361, Std Deviation = 0.006649127001272965, Sharpe Ratio = 0.1922286527903422\n",
      "8) Ticker = NYT, Avg Return = 0.0013524942540686926, Std Deviation = 0.006301963251438591, Sharpe Ratio = 0.20600548703541935\n",
      "9) Ticker = JBK, Avg Return = 0.001266219174844093, Std Deviation = 0.005650088180531909, Sharpe Ratio = 0.21450354241254088\n",
      "10) Ticker = GFNCP, Avg Return = 0.0011944489887680831, Std Deviation = 0.005133732881986151, Sharpe Ratio = 0.2220983774968423\n"
     ]
    }
   ],
   "source": [
    "ret, std, sharpe_ratio = portfolio_stat(tickers[INITAL_TICKER]['Return'])\n",
    "print('1) Ticker = {}, Avg Return = {}, Std Deviation = {}, Sharpe Ratio = {}'.format(INITAL_TICKER, ret, std, sharpe_ratio))\n",
    "\n",
    "while len(portfolio) < NUMBER_OF_PORTFOLIO_SECURITIES:\n",
    "    possible_matches = []\n",
    "    for t in tickers:\n",
    "        if t in portfolio:\n",
    "            continue\n",
    "            \n",
    "        new_portfolio = {**portfolio, t: tickers[t]['Return']}\n",
    "        _, _, sharpe_ratio = portfolio_stat(get_return(new_portfolio))\n",
    "        possible_matches.append((t, sharpe_ratio))\n",
    "        \n",
    "    \n",
    "    for t, ratio in reversed(sorted(possible_matches, key=lambda item: item[1])):\n",
    "        if tickers[t]['Return'].std() > MAX_VOLATILITY_OF_SINGLE_SECURITY:\n",
    "            continue\n",
    "            \n",
    "        if t in BAN_LIST:\n",
    "            continue\n",
    "            \n",
    "        if t not in portfolio:\n",
    "            break\n",
    "    \n",
    "    \n",
    "    portfolio[t] = tickers[t]['Return']\n",
    "    ret, std, sharpe_ratio = portfolio_stat(get_return(portfolio))\n",
    "    print('{}) Ticker = {}, Avg Return = {}, Std Deviation = {}, Sharpe Ratio = {}'.format(len(portfolio), t, ret, std, sharpe_ratio))"
   ]
  },
  {
   "cell_type": "code",
   "execution_count": 7,
   "metadata": {},
   "outputs": [
    {
     "name": "stdout",
     "output_type": "stream",
     "text": [
      "Portfolio Stats: Avg Return = 0.5460661139467027, Std Deviation = 0.08117144402988317, Sharpe Ratio = 6.480925899914162\n"
     ]
    }
   ],
   "source": [
    "ret, std, sharpe_ratio = portfolio_stat_annual(get_return(portfolio))\n",
    "print('Portfolio Stats: Avg Return = {}, Std Deviation = {}, Sharpe Ratio = {}'.format(ret, std, sharpe_ratio))"
   ]
  },
  {
   "cell_type": "code",
   "execution_count": 8,
   "metadata": {},
   "outputs": [],
   "source": [
    "# ! pip install yfinance > /dev/null 2>&1"
   ]
  },
  {
   "cell_type": "code",
   "execution_count": 9,
   "metadata": {},
   "outputs": [],
   "source": [
    "# import yfinance as yf\n",
    "\n",
    "# get_or_default = lambda info, key: info[key] if key in info else \"\"\n",
    "    \n",
    "\n",
    "# for t in portfolio:\n",
    "#     info = yf.Ticker(t).info\n",
    "#     print('ticker: {}, sector: {}, market cap: {}'.format(t, get_or_default(info, 'sector'), get_or_default(info, 'marketCap')))"
   ]
  }
 ],
 "metadata": {
  "kernelspec": {
   "display_name": "Python 3",
   "language": "python",
   "name": "python3"
  },
  "language_info": {
   "codemirror_mode": {
    "name": "ipython",
    "version": 3
   },
   "file_extension": ".py",
   "mimetype": "text/x-python",
   "name": "python",
   "nbconvert_exporter": "python",
   "pygments_lexer": "ipython3",
   "version": "3.6.6"
  }
 },
 "nbformat": 4,
 "nbformat_minor": 4
}
