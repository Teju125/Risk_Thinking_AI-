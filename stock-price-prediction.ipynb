{
 "cells": [
  {
   "cell_type": "code",
   "execution_count": 1,
   "id": "47ca01ba",
   "metadata": {
    "execution": {
     "iopub.execute_input": "2022-08-31T10:19:50.759555Z",
     "iopub.status.busy": "2022-08-31T10:19:50.759040Z",
     "iopub.status.idle": "2022-08-31T10:19:59.304480Z",
     "shell.execute_reply": "2022-08-31T10:19:59.303916Z",
     "shell.execute_reply.started": "2022-01-28T11:42:57.409955Z"
    },
    "id": "j8G2hJbbKLIW",
    "papermill": {
     "duration": 8.565552,
     "end_time": "2022-08-31T10:19:59.304618",
     "exception": false,
     "start_time": "2022-08-31T10:19:50.739066",
     "status": "completed"
    },
    "tags": []
   },
   "outputs": [],
   "source": [
    "import pandas as pd\n",
    "import numpy as np\n",
    "import matplotlib.pyplot as plt\n",
    "from sklearn.preprocessing import MinMaxScaler\n",
    "from keras.models import Sequential, load_model\n",
    "from keras.layers import LSTM, Dense, Dropout\n",
    "%matplotlib inline"
   ]
  },
  {
   "cell_type": "code",
   "execution_count": 2,
   "id": "9de086ca",
   "metadata": {
    "execution": {
     "iopub.execute_input": "2022-08-31T10:19:59.332439Z",
     "iopub.status.busy": "2022-08-31T10:19:59.331857Z",
     "iopub.status.idle": "2022-08-31T10:19:59.335525Z",
     "shell.execute_reply": "2022-08-31T10:19:59.334834Z",
     "shell.execute_reply.started": "2022-01-28T11:42:57.419375Z"
    },
    "id": "5QpdHCBsK8oP",
    "papermill": {
     "duration": 0.018487,
     "end_time": "2022-08-31T10:19:59.335674",
     "exception": false,
     "start_time": "2022-08-31T10:19:59.317187",
     "status": "completed"
    },
    "tags": []
   },
   "outputs": [],
   "source": [
    "# !unzip \"/content/drive/MyDrive/Datasets/Stock Market Dataset.zip\" -d \"/content/drive/MyDrive/Datasets/\""
   ]
  },
  {
   "cell_type": "code",
   "execution_count": 3,
   "id": "6140ed9f",
   "metadata": {
    "execution": {
     "iopub.execute_input": "2022-08-31T10:19:59.363761Z",
     "iopub.status.busy": "2022-08-31T10:19:59.363072Z",
     "iopub.status.idle": "2022-08-31T10:19:59.436580Z",
     "shell.execute_reply": "2022-08-31T10:19:59.436098Z",
     "shell.execute_reply.started": "2022-01-28T11:42:57.436739Z"
    },
    "id": "-4dlxBjmVDkx",
    "outputId": "fa786437-515c-4d31-e36e-f4dc9fb0b8d1",
    "papermill": {
     "duration": 0.090112,
     "end_time": "2022-08-31T10:19:59.436693",
     "exception": false,
     "start_time": "2022-08-31T10:19:59.346581",
     "status": "completed"
    },
    "tags": []
   },
   "outputs": [
    {
     "data": {
      "text/html": [
       "<div>\n",
       "<style scoped>\n",
       "    .dataframe tbody tr th:only-of-type {\n",
       "        vertical-align: middle;\n",
       "    }\n",
       "\n",
       "    .dataframe tbody tr th {\n",
       "        vertical-align: top;\n",
       "    }\n",
       "\n",
       "    .dataframe thead th {\n",
       "        text-align: right;\n",
       "    }\n",
       "</style>\n",
       "<table border=\"1\" class=\"dataframe\">\n",
       "  <thead>\n",
       "    <tr style=\"text-align: right;\">\n",
       "      <th></th>\n",
       "      <th>Open</th>\n",
       "      <th>High</th>\n",
       "      <th>Low</th>\n",
       "      <th>Close</th>\n",
       "      <th>Adj Close</th>\n",
       "      <th>Volume</th>\n",
       "    </tr>\n",
       "    <tr>\n",
       "      <th>Date</th>\n",
       "      <th></th>\n",
       "      <th></th>\n",
       "      <th></th>\n",
       "      <th></th>\n",
       "      <th></th>\n",
       "      <th></th>\n",
       "    </tr>\n",
       "  </thead>\n",
       "  <tbody>\n",
       "    <tr>\n",
       "      <th>1980-03-17</th>\n",
       "      <td>0.000000</td>\n",
       "      <td>0.950000</td>\n",
       "      <td>0.933333</td>\n",
       "      <td>0.933333</td>\n",
       "      <td>0.027191</td>\n",
       "      <td>18400</td>\n",
       "    </tr>\n",
       "    <tr>\n",
       "      <th>1980-03-18</th>\n",
       "      <td>0.000000</td>\n",
       "      <td>0.933333</td>\n",
       "      <td>0.908333</td>\n",
       "      <td>0.916667</td>\n",
       "      <td>0.026705</td>\n",
       "      <td>32800</td>\n",
       "    </tr>\n",
       "    <tr>\n",
       "      <th>1980-03-19</th>\n",
       "      <td>0.916667</td>\n",
       "      <td>0.916667</td>\n",
       "      <td>0.916667</td>\n",
       "      <td>0.916667</td>\n",
       "      <td>0.026705</td>\n",
       "      <td>0</td>\n",
       "    </tr>\n",
       "    <tr>\n",
       "      <th>1980-03-20</th>\n",
       "      <td>0.000000</td>\n",
       "      <td>0.933333</td>\n",
       "      <td>0.925000</td>\n",
       "      <td>0.933333</td>\n",
       "      <td>0.027191</td>\n",
       "      <td>29600</td>\n",
       "    </tr>\n",
       "    <tr>\n",
       "      <th>1980-03-21</th>\n",
       "      <td>0.000000</td>\n",
       "      <td>0.933333</td>\n",
       "      <td>0.933333</td>\n",
       "      <td>0.933333</td>\n",
       "      <td>0.027191</td>\n",
       "      <td>9600</td>\n",
       "    </tr>\n",
       "  </tbody>\n",
       "</table>\n",
       "</div>"
      ],
      "text/plain": [
       "                Open      High       Low     Close  Adj Close  Volume\n",
       "Date                                                                 \n",
       "1980-03-17  0.000000  0.950000  0.933333  0.933333   0.027191   18400\n",
       "1980-03-18  0.000000  0.933333  0.908333  0.916667   0.026705   32800\n",
       "1980-03-19  0.916667  0.916667  0.916667  0.916667   0.026705       0\n",
       "1980-03-20  0.000000  0.933333  0.925000  0.933333   0.027191   29600\n",
       "1980-03-21  0.000000  0.933333  0.933333  0.933333   0.027191    9600"
      ]
     },
     "execution_count": 3,
     "metadata": {},
     "output_type": "execute_result"
    }
   ],
   "source": [
    "data_path=\"../input/stock-market-dataset/stocks/ABM.csv\"\n",
    "df = pd.read_csv(data_path,na_values=[\"null\"],index_col=\"Date\",parse_dates=True,infer_datetime_format=True)\n",
    "df.head()"
   ]
  },
  {
   "cell_type": "code",
   "execution_count": 4,
   "id": "72ed2a1a",
   "metadata": {
    "execution": {
     "iopub.execute_input": "2022-08-31T10:19:59.462239Z",
     "iopub.status.busy": "2022-08-31T10:19:59.461736Z",
     "iopub.status.idle": "2022-08-31T10:19:59.745493Z",
     "shell.execute_reply": "2022-08-31T10:19:59.744887Z",
     "shell.execute_reply.started": "2022-01-28T11:42:57.473050Z"
    },
    "id": "gRhvn8BnWXg7",
    "outputId": "3b95a761-409b-42a6-86a5-cf8dc26c0180",
    "papermill": {
     "duration": 0.297578,
     "end_time": "2022-08-31T10:19:59.745618",
     "exception": false,
     "start_time": "2022-08-31T10:19:59.448040",
     "status": "completed"
    },
    "tags": []
   },
   "outputs": [
    {
     "name": "stdout",
     "output_type": "stream",
     "text": [
      "Dataframe Shape:  (10098, 6)\n",
      "Null Value Present:  False\n"
     ]
    },
    {
     "data": {
      "text/plain": [
       "<AxesSubplot:xlabel='Date'>"
      ]
     },
     "execution_count": 4,
     "metadata": {},
     "output_type": "execute_result"
    },
    {
     "data": {
      "image/png": "[encoded data removed]",
      "text/plain": [
       "<Figure size 432x288 with 1 Axes>"
      ]
     },
     "metadata": {
      "needs_background": "light"
     },
     "output_type": "display_data"
    }
   ],
   "source": [
    "print(\"Dataframe Shape: \", df. shape)\n",
    "print(\"Null Value Present: \", df.isnull().values.any())\n",
    "df[\"Adj Close\"].plot()\n"
   ]
  },
  {
   "cell_type": "code",
   "execution_count": 5,
   "id": "4c453936",
   "metadata": {
    "execution": {
     "iopub.execute_input": "2022-08-31T10:19:59.777134Z",
     "iopub.status.busy": "2022-08-31T10:19:59.776608Z",
     "iopub.status.idle": "2022-08-31T10:19:59.780000Z",
     "shell.execute_reply": "2022-08-31T10:19:59.779516Z",
     "shell.execute_reply.started": "2022-01-28T11:42:57.774108Z"
    },
    "id": "vtoO-Kv9vDig",
    "papermill": {
     "duration": 0.020982,
     "end_time": "2022-08-31T10:19:59.780117",
     "exception": false,
     "start_time": "2022-08-31T10:19:59.759135",
     "status": "completed"
    },
    "tags": []
   },
   "outputs": [],
   "source": [
    "df = df['Open'].values\n",
    "df = df.reshape(-1, 1)"
   ]
  },
  {
   "cell_type": "code",
   "execution_count": 6,
   "id": "83edc9f4",
   "metadata": {
    "execution": {
     "iopub.execute_input": "2022-08-31T10:19:59.809592Z",
     "iopub.status.busy": "2022-08-31T10:19:59.808632Z",
     "iopub.status.idle": "2022-08-31T10:19:59.828073Z",
     "shell.execute_reply": "2022-08-31T10:19:59.828657Z",
     "shell.execute_reply.started": "2022-01-28T11:42:57.780540Z"
    },
    "id": "DsUoHJPmvMI5",
    "papermill": {
     "duration": 0.035724,
     "end_time": "2022-08-31T10:19:59.828808",
     "exception": false,
     "start_time": "2022-08-31T10:19:59.793084",
     "status": "completed"
    },
    "tags": []
   },
   "outputs": [],
   "source": [
    "dataset_train0 = np.array(df[:int(df.shape[0]*0.8)])\n",
    "dataset_test0 = np.array(df[int(df.shape[0]*0.8):])\n",
    "scaler = MinMaxScaler(feature_range=(0,1))\n",
    "dataset_train = scaler.fit_transform(dataset_train0)\n",
    "dataset_test = scaler.transform(dataset_test0)\n",
    "def create_dataset(df):\n",
    "    x = []\n",
    "    y = []\n",
    "    for i in range(50, df.shape[0]):\n",
    "        x.append(df[i-50:i, 0])\n",
    "        y.append(df[i, 0])\n",
    "    x = np.array(x)\n",
    "    y = np.array(y)\n",
    "    return x,y\n",
    "\n",
    "x_train, y_train = create_dataset(dataset_train)\n",
    "x_test, y_test = create_dataset(dataset_test)\n",
    "x_train = np.reshape(x_train, (x_train.shape[0], x_train.shape[1], 1))\n",
    "x_test = np.reshape(x_test, (x_test.shape[0], x_test.shape[1], 1))"
   ]
  },
  {
   "cell_type": "code",
   "execution_count": 7,
   "id": "45a7767d",
   "metadata": {
    "execution": {
     "iopub.execute_input": "2022-08-31T10:19:59.859080Z",
     "iopub.status.busy": "2022-08-31T10:19:59.858470Z",
     "iopub.status.idle": "2022-08-31T10:20:00.881592Z",
     "shell.execute_reply": "2022-08-31T10:20:00.880973Z",
     "shell.execute_reply.started": "2022-01-28T11:42:57.816270Z"
    },
    "id": "4T3HI8-mXTxf",
    "papermill": {
     "duration": 1.040798,
     "end_time": "2022-08-31T10:20:00.881710",
     "exception": false,
     "start_time": "2022-08-31T10:19:59.840912",
     "status": "completed"
    },
    "tags": []
   },
   "outputs": [
    {
     "name": "stderr",
     "output_type": "stream",
     "text": [
      "\n",
      "User settings:\n",
      "\n",
      "   KMP_AFFINITY=granularity=fine,noverbose,compact,1,0\n",
      "   KMP_BLOCKTIME=0\n",
      "   KMP_DUPLICATE_LIB_OK=True\n",
      "   KMP_INIT_AT_FORK=FALSE\n",
      "   KMP_SETTINGS=1\n",
      "   KMP_WARNINGS=0\n",
      "\n",
      "Effective settings:\n",
      "\n",
      "   KMP_ABORT_DELAY=0\n",
      "   KMP_ADAPTIVE_LOCK_PROPS='1,1024'\n",
      "   KMP_ALIGN_ALLOC=64\n",
      "   KMP_ALL_THREADPRIVATE=128\n",
      "   KMP_ATOMIC_MODE=2\n",
      "   KMP_BLOCKTIME=0\n",
      "   KMP_CPUINFO_FILE: value is not defined\n",
      "   KMP_DETERMINISTIC_REDUCTION=false\n",
      "   KMP_DEVICE_THREAD_LIMIT=2147483647\n",
      "   KMP_DISP_NUM_BUFFERS=7\n",
      "   KMP_DUPLICATE_LIB_OK=true\n",
      "   KMP_ENABLE_TASK_THROTTLING=true\n",
      "   KMP_FORCE_REDUCTION: value is not defined\n",
      "   KMP_FOREIGN_THREADS_THREADPRIVATE=true\n",
      "   KMP_FORKJOIN_BARRIER='2,2'\n",
      "   KMP_FORKJOIN_BARRIER_PATTERN='hyper,hyper'\n",
      "   KMP_GTID_MODE=3\n",
      "   KMP_HANDLE_SIGNALS=false\n",
      "   KMP_HOT_TEAMS_MAX_LEVEL=1\n",
      "   KMP_HOT_TEAMS_MODE=0\n",
      "   KMP_INIT_AT_FORK=true\n",
      "   KMP_LIBRARY=throughput\n",
      "   KMP_LOCK_KIND=queuing\n",
      "   KMP_MALLOC_POOL_INCR=1M\n",
      "   KMP_NUM_LOCKS_IN_BLOCK=1\n",
      "   KMP_PLAIN_BARRIER='2,2'\n",
      "   KMP_PLAIN_BARRIER_PATTERN='hyper,hyper'\n",
      "   KMP_REDUCTION_BARRIER='1,1'\n",
      "   KMP_REDUCTION_BARRIER_PATTERN='hyper,hyper'\n",
      "   KMP_SCHEDULE='static,balanced;guided,iterative'\n",
      "   KMP_SETTINGS=true\n",
      "   KMP_SPIN_BACKOFF_PARAMS='4096,100'\n",
      "   KMP_STACKOFFSET=64\n",
      "   KMP_STACKPAD=0\n",
      "   KMP_STACKSIZE=8M\n",
      "   KMP_STORAGE_MAP=false\n",
      "   KMP_TASKING=2\n",
      "   KMP_TASKLOOP_MIN_TASKS=0\n",
      "   KMP_TASK_STEALING_CONSTRAINT=1\n",
      "   KMP_TEAMS_THREAD_LIMIT=4\n",
      "   KMP_TOPOLOGY_METHOD=all\n",
      "   KMP_USE_YIELD=1\n",
      "   KMP_VERSION=false\n",
      "   KMP_WARNINGS=false\n",
      "   OMP_AFFINITY_FORMAT='OMP: pid %P tid %i thread %n bound to OS proc set {%A}'\n",
      "   OMP_ALLOCATOR=omp_default_mem_alloc\n",
      "   OMP_CANCELLATION=false\n",
      "   OMP_DEFAULT_DEVICE=0\n",
      "   OMP_DISPLAY_AFFINITY=false\n",
      "   OMP_DISPLAY_ENV=false\n",
      "   OMP_DYNAMIC=false\n",
      "   OMP_MAX_ACTIVE_LEVELS=1\n",
      "   OMP_MAX_TASK_PRIORITY=0\n",
      "   OMP_NESTED: deprecated; max-active-levels-var=1\n",
      "   OMP_NUM_THREADS: value is not defined\n",
      "   OMP_PLACES: value is not defined\n",
      "   OMP_PROC_BIND='intel'\n",
      "   OMP_SCHEDULE='static'\n",
      "   OMP_STACKSIZE=8M\n",
      "   OMP_TARGET_OFFLOAD=DEFAULT\n",
      "   OMP_THREAD_LIMIT=2147483647\n",
      "   OMP_WAIT_POLICY=PASSIVE\n",
      "   KMP_AFFINITY='noverbose,warnings,respect,granularity=fine,compact,1,0'\n",
      "\n",
      "2022-08-31 10:19:59.896761: I tensorflow/core/common_runtime/process_util.cc:146] Creating new thread pool with default inter op setting: 2. Tune using inter_op_parallelism_threads for best performance.\n"
     ]
    }
   ],
   "source": [
    "model = Sequential()\n",
    "model.add(LSTM(units=96, return_sequences=True, input_shape=(x_train.shape[1], 1)))\n",
    "model.add(Dropout(0.2))\n",
    "model.add(LSTM(units=96,return_sequences=True))\n",
    "model.add(Dropout(0.2))\n",
    "model.add(LSTM(units=96,return_sequences=True))\n",
    "model.add(Dropout(0.2))\n",
    "model.add(LSTM(units=96))\n",
    "model.add(Dropout(0.2))\n",
    "model.add(Dense(units=1))\n"
   ]
  },
  {
   "cell_type": "code",
   "execution_count": 8,
   "id": "52b5faad",
   "metadata": {
    "execution": {
     "iopub.execute_input": "2022-08-31T10:20:00.910211Z",
     "iopub.status.busy": "2022-08-31T10:20:00.909637Z",
     "iopub.status.idle": "2022-08-31T10:20:00.919971Z",
     "shell.execute_reply": "2022-08-31T10:20:00.920635Z",
     "shell.execute_reply.started": "2022-01-28T11:42:58.719063Z"
    },
    "id": "ENLNqjqX8GEa",
    "outputId": "707821ed-764c-4b57-ebe0-917a65fe7076",
    "papermill": {
     "duration": 0.026364,
     "end_time": "2022-08-31T10:20:00.920819",
     "exception": false,
     "start_time": "2022-08-31T10:20:00.894455",
     "status": "completed"
    },
    "tags": []
   },
   "outputs": [
    {
     "name": "stdout",
     "output_type": "stream",
     "text": [
      "Model: \"sequential\"\n",
      "_________________________________________________________________\n",
      "Layer (type)                 Output Shape              Param #   \n",
      "=================================================================\n",
      "lstm (LSTM)                  (None, 50, 96)            37632     \n",
      "_________________________________________________________________\n",
      "dropout (Dropout)            (None, 50, 96)            0         \n",
      "_________________________________________________________________\n",
      "lstm_1 (LSTM)                (None, 50, 96)            74112     \n",
      "_________________________________________________________________\n",
      "dropout_1 (Dropout)          (None, 50, 96)            0         \n",
      "_________________________________________________________________\n",
      "lstm_2 (LSTM)                (None, 50, 96)            74112     \n",
      "_________________________________________________________________\n",
      "dropout_2 (Dropout)          (None, 50, 96)            0         \n",
      "_________________________________________________________________\n",
      "lstm_3 (LSTM)                (None, 96)                74112     \n",
      "_________________________________________________________________\n",
      "dropout_3 (Dropout)          (None, 96)                0         \n",
      "_________________________________________________________________\n",
      "dense (Dense)                (None, 1)                 97        \n",
      "=================================================================\n",
      "Total params: 260,065\n",
      "Trainable params: 260,065\n",
      "Non-trainable params: 0\n",
      "_________________________________________________________________\n"
     ]
    }
   ],
   "source": [
    "model.summary()"
   ]
  },
  {
   "cell_type": "code",
   "execution_count": 9,
   "id": "50cb74ea",
   "metadata": {
    "execution": {
     "iopub.execute_input": "2022-08-31T10:20:00.950759Z",
     "iopub.status.busy": "2022-08-31T10:20:00.950258Z",
     "iopub.status.idle": "2022-08-31T10:20:00.962293Z",
     "shell.execute_reply": "2022-08-31T10:20:00.962724Z",
     "shell.execute_reply.started": "2022-01-28T11:42:58.731947Z"
    },
    "id": "_ZI2nlPGwN3E",
    "papermill": {
     "duration": 0.028221,
     "end_time": "2022-08-31T10:20:00.962875",
     "exception": false,
     "start_time": "2022-08-31T10:20:00.934654",
     "status": "completed"
    },
    "tags": []
   },
   "outputs": [],
   "source": [
    "x_train = np.reshape(x_train, (x_train.shape[0], x_train.shape[1], 1))\n",
    "x_test = np.reshape(x_test, (x_test.shape[0], x_test.shape[1], 1))\n",
    "model.compile(loss='mean_squared_error', optimizer='adam')"
   ]
  },
  {
   "cell_type": "code",
   "execution_count": 10,
   "id": "104ff005",
   "metadata": {
    "execution": {
     "iopub.execute_input": "2022-08-31T10:20:00.992135Z",
     "iopub.status.busy": "2022-08-31T10:20:00.991601Z",
     "iopub.status.idle": "2022-08-31T11:18:52.582364Z",
     "shell.execute_reply": "2022-08-31T11:18:52.581620Z",
     "shell.execute_reply.started": "2022-01-28T11:42:58.753447Z"
    },
    "id": "asVsXR5BwVuo",
    "outputId": "14dfddd4-2707-4866-e4e4-5d7c8b7f9492",
    "papermill": {
     "duration": 3531.606502,
     "end_time": "2022-08-31T11:18:52.582484",
     "exception": false,
     "start_time": "2022-08-31T10:20:00.975982",
     "status": "completed"
    },
    "tags": []
   },
   "outputs": [
    {
     "name": "stderr",
     "output_type": "stream",
     "text": [
      "2022-08-31 10:20:01.048554: I tensorflow/compiler/mlir/mlir_graph_optimization_pass.cc:185] None of the MLIR Optimization Passes are enabled (registered 2)\n"
     ]
    },
    {
     "name": "stdout",
     "output_type": "stream",
     "text": [
      "Epoch 1/50\n",
      "251/251 [==============================] - 61s 219ms/step - loss: 0.0038\n",
      "Epoch 2/50\n",
      "251/251 [==============================] - 51s 202ms/step - loss: 0.0017\n",
      "Epoch 3/50\n",
      "251/251 [==============================] - 50s 198ms/step - loss: 0.0014\n",
      "Epoch 4/50\n",
      "251/251 [==============================] - 50s 198ms/step - loss: 0.0011\n",
      "Epoch 5/50\n",
      "251/251 [==============================] - 50s 197ms/step - loss: 0.0010\n",
      "Epoch 6/50\n",
      "251/251 [==============================] - 50s 201ms/step - loss: 0.0011\n",
      "Epoch 7/50\n",
      "251/251 [==============================] - 49s 197ms/step - loss: 0.0010\n",
      "Epoch 8/50\n",
      "251/251 [==============================] - 50s 199ms/step - loss: 8.8921e-04\n",
      "Epoch 9/50\n",
      "251/251 [==============================] - 49s 197ms/step - loss: 8.2628e-04\n",
      "Epoch 10/50\n",
      "251/251 [==============================] - 50s 198ms/step - loss: 7.6140e-04\n",
      "Epoch 11/50\n",
      "251/251 [==============================] - 50s 197ms/step - loss: 6.9380e-04\n",
      "Epoch 12/50\n",
      "251/251 [==============================] - 52s 206ms/step - loss: 7.5857e-04\n",
      "Epoch 13/50\n",
      "251/251 [==============================] - 52s 206ms/step - loss: 6.9654e-04\n",
      "Epoch 14/50\n",
      "251/251 [==============================] - 94s 375ms/step - loss: 6.6060e-04\n",
      "Epoch 15/50\n",
      "251/251 [==============================] - 57s 226ms/step - loss: 7.1833e-04\n",
      "Epoch 16/50\n",
      "251/251 [==============================] - 63s 253ms/step - loss: 6.8999e-04\n",
      "Epoch 17/50\n",
      "251/251 [==============================] - 276s 1s/step - loss: 6.5717e-04\n",
      "Epoch 18/50\n",
      "251/251 [==============================] - 162s 644ms/step - loss: 6.0301e-04\n",
      "Epoch 19/50\n",
      "251/251 [==============================] - 52s 207ms/step - loss: 5.9564e-04\n",
      "Epoch 20/50\n",
      "251/251 [==============================] - 49s 197ms/step - loss: 5.9917e-04\n",
      "Epoch 21/50\n",
      "251/251 [==============================] - 51s 203ms/step - loss: 5.7859e-04\n",
      "Epoch 22/50\n",
      "251/251 [==============================] - 52s 206ms/step - loss: 5.5601e-04\n",
      "Epoch 23/50\n",
      "251/251 [==============================] - 52s 205ms/step - loss: 5.2931e-04\n",
      "Epoch 24/50\n",
      "251/251 [==============================] - 51s 202ms/step - loss: 5.5167e-04\n",
      "Epoch 25/50\n",
      "251/251 [==============================] - 50s 201ms/step - loss: 5.5432e-04\n",
      "Epoch 26/50\n",
      "251/251 [==============================] - 50s 197ms/step - loss: 5.5499e-04\n",
      "Epoch 27/50\n",
      "251/251 [==============================] - 49s 197ms/step - loss: 5.3652e-04\n",
      "Epoch 28/50\n",
      "251/251 [==============================] - 51s 202ms/step - loss: 5.2608e-04\n",
      "Epoch 29/50\n",
      "251/251 [==============================] - 50s 201ms/step - loss: 5.2739e-04\n",
      "Epoch 30/50\n",
      "251/251 [==============================] - 52s 208ms/step - loss: 5.1293e-04\n",
      "Epoch 31/50\n",
      "251/251 [==============================] - 59s 233ms/step - loss: 4.7920e-04\n",
      "Epoch 32/50\n",
      "251/251 [==============================] - 215s 860ms/step - loss: 5.5771e-04\n",
      "Epoch 33/50\n",
      "251/251 [==============================] - 69s 274ms/step - loss: 4.5582e-04\n",
      "Epoch 34/50\n",
      "251/251 [==============================] - 51s 204ms/step - loss: 4.6677e-04\n",
      "Epoch 35/50\n",
      "251/251 [==============================] - 52s 208ms/step - loss: 5.1476e-04\n",
      "Epoch 36/50\n",
      "251/251 [==============================] - 96s 384ms/step - loss: 5.1802e-04\n",
      "Epoch 37/50\n",
      "251/251 [==============================] - 50s 200ms/step - loss: 4.5403e-04\n",
      "Epoch 38/50\n",
      "251/251 [==============================] - 52s 207ms/step - loss: 4.4034e-04\n",
      "Epoch 39/50\n",
      "251/251 [==============================] - 52s 206ms/step - loss: 5.0164e-04\n",
      "Epoch 40/50\n",
      "251/251 [==============================] - 50s 200ms/step - loss: 4.3529e-04\n",
      "Epoch 41/50\n",
      "251/251 [==============================] - 52s 206ms/step - loss: 4.4755e-04\n",
      "Epoch 42/50\n",
      "251/251 [==============================] - 92s 365ms/step - loss: 4.7155e-04\n",
      "Epoch 43/50\n",
      "251/251 [==============================] - 51s 202ms/step - loss: 4.5117e-04\n",
      "Epoch 44/50\n",
      "251/251 [==============================] - 50s 200ms/step - loss: 4.4421e-04\n",
      "Epoch 45/50\n",
      "251/251 [==============================] - 54s 215ms/step - loss: 4.7348e-04\n",
      "Epoch 46/50\n",
      "251/251 [==============================] - 118s 471ms/step - loss: 4.5020e-04\n",
      "Epoch 47/50\n",
      "251/251 [==============================] - 295s 1s/step - loss: 4.4979e-04\n",
      "Epoch 48/50\n",
      "251/251 [==============================] - 50s 198ms/step - loss: 4.3686e-04\n",
      "Epoch 49/50\n",
      "251/251 [==============================] - 51s 201ms/step - loss: 4.3567e-04\n",
      "Epoch 50/50\n",
      "251/251 [==============================] - 50s 198ms/step - loss: 4.5520e-04\n"
     ]
    }
   ],
   "source": [
    "history=model.fit(x_train, y_train, epochs=50, batch_size=32)\n",
    "model.save('stock_prediction.h5')"
   ]
  },
  {
   "cell_type": "code",
   "execution_count": 11,
   "id": "8fe7b742",
   "metadata": {
    "execution": {
     "iopub.execute_input": "2022-08-31T11:18:59.036818Z",
     "iopub.status.busy": "2022-08-31T11:18:59.036105Z",
     "iopub.status.idle": "2022-08-31T11:18:59.191524Z",
     "shell.execute_reply": "2022-08-31T11:18:59.191044Z",
     "shell.execute_reply.started": "2022-01-28T12:18:05.910238Z"
    },
    "id": "xWeudYLvy02w",
    "outputId": "3391c0b5-26ae-46a8-85ba-c0171c68c918",
    "papermill": {
     "duration": 3.308239,
     "end_time": "2022-08-31T11:18:59.191651",
     "exception": false,
     "start_time": "2022-08-31T11:18:55.883412",
     "status": "completed"
    },
    "tags": []
   },
   "outputs": [
    {
     "name": "stdout",
     "output_type": "stream",
     "text": [
      "loss at epoch 1: 0.0037774117663502693\n",
      "loss at epoch 50: 0.0004552049213089049\n"
     ]
    },
    {
     "data": {
      "text/plain": [
       "[<matplotlib.lines.Line2D at 0x7f933e210050>]"
      ]
     },
     "execution_count": 11,
     "metadata": {},
     "output_type": "execute_result"
    },
    {
     "data": {
      "image/png": "[encoded data removed]",
      "text/plain": [
       "<Figure size 432x288 with 1 Axes>"
      ]
     },
     "metadata": {
      "needs_background": "light"
     },
     "output_type": "display_data"
    }
   ],
   "source": [
    "print(f\"loss at epoch 1: {history.history['loss'][0]}\")\n",
    "print(f\"loss at epoch 50: {history.history['loss'][49]}\")\n",
    "plt.plot(history.history['loss'])"
   ]
  },
  {
   "cell_type": "code",
   "execution_count": 12,
   "id": "ec4effa5",
   "metadata": {
    "execution": {
     "iopub.execute_input": "2022-08-31T11:19:05.608282Z",
     "iopub.status.busy": "2022-08-31T11:19:05.607432Z",
     "iopub.status.idle": "2022-08-31T11:19:06.412880Z",
     "shell.execute_reply": "2022-08-31T11:19:06.413330Z",
     "shell.execute_reply.started": "2022-01-28T12:18:06.083563Z"
    },
    "id": "901GfdfTwYsA",
    "papermill": {
     "duration": 3.986663,
     "end_time": "2022-08-31T11:19:06.413484",
     "exception": false,
     "start_time": "2022-08-31T11:19:02.426821",
     "status": "completed"
    },
    "tags": []
   },
   "outputs": [],
   "source": [
    "model = load_model('stock_prediction.h5')"
   ]
  },
  {
   "cell_type": "code",
   "execution_count": 13,
   "id": "cd743e34",
   "metadata": {
    "execution": {
     "iopub.execute_input": "2022-08-31T11:19:12.916301Z",
     "iopub.status.busy": "2022-08-31T11:19:12.915739Z",
     "iopub.status.idle": "2022-08-31T11:19:18.079296Z",
     "shell.execute_reply": "2022-08-31T11:19:18.078839Z",
     "shell.execute_reply.started": "2022-01-28T12:18:06.833682Z"
    },
    "id": "NavUqoQywcWh",
    "outputId": "e25a3b4c-21d8-4c1f-b1dd-5f3ef689e8dd",
    "papermill": {
     "duration": 8.38343,
     "end_time": "2022-08-31T11:19:18.079420",
     "exception": false,
     "start_time": "2022-08-31T11:19:09.695990",
     "status": "completed"
    },
    "tags": []
   },
   "outputs": [
    {
     "data": {
      "text/plain": [
       "<matplotlib.legend.Legend at 0x7f933df3dc10>"
      ]
     },
     "execution_count": 13,
     "metadata": {},
     "output_type": "execute_result"
    },
    {
     "data": {
      "image/png": "[encoded data removed]",
      "text/plain": [
       "<Figure size 1152x576 with 1 Axes>"
      ]
     },
     "metadata": {
      "needs_background": "light"
     },
     "output_type": "display_data"
    }
   ],
   "source": [
    "predictions = model.predict(x_test)\n",
    "predictions = scaler.inverse_transform(predictions)\n",
    "y_test_scaled = scaler.inverse_transform(y_test.reshape(-1, 1))\n",
    "\n",
    "fig, ax = plt.subplots(figsize=(16,8))\n",
    "ax.set_facecolor('#0000')\n",
    "ax.plot(y_test_scaled, color='red', label='Main price')\n",
    "plt.plot(predictions, color='blue', label='Predicted price')\n",
    "plt.legend()"
   ]
  },
  {
   "cell_type": "code",
   "execution_count": 14,
   "id": "28aaa0e9",
   "metadata": {
    "execution": {
     "iopub.execute_input": "2022-08-31T11:19:24.342264Z",
     "iopub.status.busy": "2022-08-31T11:19:24.341380Z",
     "iopub.status.idle": "2022-08-31T11:19:28.749918Z",
     "shell.execute_reply": "2022-08-31T11:19:28.750309Z",
     "shell.execute_reply.started": "2022-01-28T12:18:11.192685Z"
    },
    "id": "6fAXiKLnMlLG",
    "outputId": "d3a88367-a08a-4f66-b358-a625add61002",
    "papermill": {
     "duration": 7.527511,
     "end_time": "2022-08-31T11:19:28.750457",
     "exception": false,
     "start_time": "2022-08-31T11:19:21.222946",
     "status": "completed"
    },
    "tags": []
   },
   "outputs": [
    {
     "data": {
      "image/png": "[encoded data removed]",
      "text/plain": [
       "<Figure size 432x288 with 1 Axes>"
      ]
     },
     "metadata": {
      "needs_background": "light"
     },
     "output_type": "display_data"
    }
   ],
   "source": [
    "y_pred = model.predict(x_test)\n",
    "train_max=dataset_test0.max()\n",
    "train_min=dataset_test0.min()\n",
    "# Rescale the data back to the original scale\n",
    "y_test = y_test*(train_max - train_min) + train_min\n",
    "y_pred = y_pred*(train_max - train_min) + train_min\n",
    "y_train = y_train*(train_max - train_min) + train_min\n",
    "\n",
    "# Plotting the results\n",
    "plt.plot(np.arange(len(y_train), len(y_train) + len(y_test)), y_test.flatten(), marker='.', label=\"true\")\n",
    "plt.plot(np.arange(len(y_train), len(y_train) + len(y_test)), y_pred.flatten(), 'r', marker='.', label=\"prediction\")\n",
    "plt.plot(np.arange(0, len(y_train)), y_train.flatten(), 'g', marker='.', label=\"history\")\n",
    "plt.ylabel('Close')\n",
    "plt.xlabel('Time Step')\n",
    "plt.legend()\n",
    "plt.show()"
   ]
  },
  {
   "cell_type": "code",
   "execution_count": null,
   "id": "41853083",
   "metadata": {
    "id": "cmpMry8gxT3g",
    "papermill": {
     "duration": 3.132941,
     "end_time": "2022-08-31T11:19:35.056412",
     "exception": false,
     "start_time": "2022-08-31T11:19:31.923471",
     "status": "completed"
    },
    "tags": []
   },
   "outputs": [],
   "source": []
  }
 ],
 "metadata": {
  "kernelspec": {
   "display_name": "Python 3",
   "language": "python",
   "name": "python3"
  },
  "language_info": {
   "codemirror_mode": {
    "name": "ipython",
    "version": 3
   },
   "file_extension": ".py",
   "mimetype": "text/x-python",
   "name": "python",
   "nbconvert_exporter": "python",
   "pygments_lexer": "ipython3",
   "version": "3.7.12"
  },
  "papermill": {
   "default_parameters": {},
   "duration": 3599.972539,
   "end_time": "2022-08-31T11:19:41.760418",
   "environment_variables": {},
   "exception": null,
   "input_path": "__notebook__.ipynb",
   "output_path": "__notebook__.ipynb",
   "parameters": {},
   "start_time": "2022-08-31T10:19:41.787879",
   "version": "2.3.3"
  }
 },
 "nbformat": 4,
 "nbformat_minor": 5
}
